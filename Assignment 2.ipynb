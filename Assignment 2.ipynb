{
 "cells": [
  {
   "cell_type": "markdown",
   "metadata": {},
   "source": [
    "# Assignment 2: DenseNet with CIFAR10 Dataset by TensorFlow"
   ]
  },
  {
   "cell_type": "markdown",
   "metadata": {},
   "source": [
    "In this assignment, you are required to implement DenseNet to classify images from the [CIFAR10 dataset](https://www.cs.toronto.edu/~kriz/cifar.html) by using TensorFlow with Keras. DenseNet is very well-known and therefore it has been implemented and pre-trained by Keras. You are also required to load and test the pre-trained models, and compare them with your models.\n",
    "\n",
    "First of all, read the DenseNet paper. DenseNet was originally proposed in 2016 by Gao Huang, Zhuang Liu, Laurens van der Maaten, Kilian Q. Weinberger in the following paper:\n",
    "https://arxiv.org/abs/1608.06993\n",
    "\n",
    "The process will be broken down into the following steps:\n",
    ">\n",
    "1. Answer a short question about DenseNet. (10 marks)\n",
    "2. Load and visualize the data.\n",
    "3. Implement your models. (30 marks)\n",
    "4. Train and evaluate your models. (25 marks)\n",
    "5. Load the pre-trained models from Keras and evaluate them. (15 marks)\n",
    "6. Analysis your results. (20 marks)"
   ]
  },
  {
   "cell_type": "markdown",
   "metadata": {},
   "source": [
    "---\n",
    "## 1. Answer a short question (20 marks)\n",
    "\n",
    "Now that you know what DenseNet is all about, let's compare it to VGG.\n",
    "Both VGG and DenseNet papers describe several variations of their models that differ by their depth.\n",
    "For example, VGG16 and VGG19, DenseNet-121 and DenseNet-169 are four examples from these papers.\n",
    "\n",
    "Aside from difference in network depth, how is the architecture of DenseNet different from that of VGG? Please enter your answer in the next cell (approximately 100-200 words, both English and Chinese are acceptable)."
   ]
  },
  {
   "cell_type": "markdown",
   "metadata": {},
   "source": [
    "VGG的结构非常简洁，整个网络都使用了同样大小的卷积核尺寸（3x3）和最大池化尺寸（2x2）。验证了通过不断加深网络结构可以提升性能。DenseNet提出了一个更激进的密集连接机制：即互相连接所有的层，具体来说就是每个层都会接受其前面所有层作为其额外的输入。由于密集连接方式，DenseNet提升了梯度的反向传播，使得网络更容易训练。"
   ]
  },
  {
   "cell_type": "markdown",
   "metadata": {},
   "source": [
    "---\n",
    "## 2. Load and visualize the data.\n",
    "\n",
    "The data is directly loaded into memory."
   ]
  },
  {
   "cell_type": "code",
   "execution_count": 25,
   "metadata": {},
   "outputs": [
    {
     "name": "stdout",
     "output_type": "stream",
     "text": [
      "x_train shape: (50000, 32, 32, 3)\n",
      "50000 train samples\n",
      "10000 test samples\n",
      "y_train shape: (50000, 1)\n",
      "50000\n"
     ]
    }
   ],
   "source": [
    "from tensorflow.keras.datasets import cifar10\n",
    "from tensorflow.keras.utils import to_categorical\n",
    "\n",
    "num_classes = 10\n",
    "\n",
    "# load the CIFAR10 data\n",
    "(x_train, y_train), (x_test, y_test) = cifar10.load_data()\n",
    "#y_train=y_train.reshape(-1)\n",
    "#y_test=y_test.reshape(-1)\n",
    "# input image dimensions\n",
    "input_shape = x_train.shape[1:]\n",
    "\n",
    "# normalize data\n",
    "x_train = x_train.astype('float32') / 255\n",
    "x_test = x_test.astype('float32') / 255\n",
    "print('x_train shape:', x_train.shape)\n",
    "print(x_train.shape[0], 'train samples')\n",
    "print(x_test.shape[0], 'test samples')\n",
    "print('y_train shape:', y_train.shape)\n",
    "# convert class vectors to binary class matrices.\n",
    "y_train = to_categorical(y_train, num_classes)\n",
    "y_test = to_categorical(y_test, num_classes)\n",
    "print(len(x_train))"
   ]
  },
  {
   "cell_type": "code",
   "execution_count": 28,
   "metadata": {},
   "outputs": [
    {
     "data": {
      "text/plain": [
       "<matplotlib.image.AxesImage at 0x28698b13a00>"
      ]
     },
     "execution_count": 28,
     "metadata": {},
     "output_type": "execute_result"
    },
    {
     "data": {
      "image/png": "[encoded data removed]",
      "text/plain": [
       "<Figure size 640x480 with 1 Axes>"
      ]
     },
     "metadata": {},
     "output_type": "display_data"
    }
   ],
   "source": [
    "import matplotlib.pyplot as plt\n",
    "plt.imshow(x_train[0])"
   ]
  },
  {
   "cell_type": "markdown",
   "metadata": {},
   "source": [
    "#### ---\n",
    "## 3. Implement your models (30 marks)\n",
    "\n",
    "In this task, you are required to implement DenseNet-41 and DenseNet-49 with compression and bottleneck as depicted in the original paper. DenseNet-41 and DenseNet-49 follow the architecture of DenseNet and remove several convolution layers for time efficiency. Specifically, DenseNet-41 and DenseNet-49 have a group of 4 Dense Block, each has a set of [3,6,6,3] and [4,6,8,4] mini-block including a 1x1 conv follow by a 3x3 conv. For more details, please refer to Table 1 in the original paper."
   ]
  },
  {
   "cell_type": "code",
   "execution_count": 22,
   "metadata": {},
   "outputs": [],
   "source": [
    "# implement the code of your DenseNet-41 model here.\n",
    "import tensorflow as tf\n",
    "class ConvBlock(tf.keras.layers.Layer):\n",
    "    def __init__(self, num_channels):\n",
    "        super(ConvBlock, self).__init__()\n",
    "        self.bn1 = tf.keras.layers.BatchNormalization()\n",
    "        self.relu1 = tf.keras.layers.ReLU()\n",
    "        self.conv1 = tf.keras.layers.Conv2D(\n",
    "            filters=4*num_channels, kernel_size=1)##bottleneck\n",
    "        self.bn2 = tf.keras.layers.BatchNormalization()\n",
    "        self.relu2 = tf.keras.layers.ReLU()\n",
    "        self.conv2 = tf.keras.layers.Conv2D(\n",
    "            filters=num_channels, kernel_size=(3, 3), padding='same')\n",
    "\n",
    "        self.listLayers = [self.bn1, self.relu1, self.conv1,self.bn2, self.relu2, self.conv2]\n",
    "\n",
    "    def call(self, x):\n",
    "        y = x\n",
    "        for layer in self.listLayers.layers:\n",
    "            y = layer(y)\n",
    "        y = tf.keras.layers.concatenate([x,y], axis=-1)\n",
    "        return y\n",
    "\n",
    "\n",
    "class DenseBlock(tf.keras.layers.Layer):\n",
    "    def __init__(self, num_convs, num_channels):\n",
    "        super(DenseBlock, self).__init__()\n",
    "        self.listLayers = []\n",
    "        for _ in range(num_convs):\n",
    "            self.listLayers.append(ConvBlock(num_channels))\n",
    "\n",
    "    def call(self, x):\n",
    "        for layer in self.listLayers.layers:\n",
    "            x = layer(x)\n",
    "        return x\n",
    "\n",
    "class TransitionBlock(tf.keras.layers.Layer):\n",
    "    def __init__(self, num_channels, **kwargs):\n",
    "        super(TransitionBlock, self).__init__(**kwargs)\n",
    "        self.batch_norm = tf.keras.layers.BatchNormalization()\n",
    "        self.relu = tf.keras.layers.ReLU()\n",
    "        self.conv = tf.keras.layers.Conv2D(num_channels, kernel_size=1)\n",
    "        self.avg_pool = tf.keras.layers.AvgPool2D(pool_size=2, strides=2)\n",
    "\n",
    "    def call(self, x):\n",
    "        x = self.batch_norm(x)\n",
    "        x = self.relu(x)\n",
    "        x = self.conv(x)\n",
    "        return self.avg_pool(x)\n",
    "    \n",
    "def block_1():\n",
    "    return tf.keras.Sequential([\n",
    "       tf.keras.layers.Conv2D(64, kernel_size=7, strides=2, padding='same'),\n",
    "       tf.keras.layers.BatchNormalization(),\n",
    "       tf.keras.layers.ReLU(),\n",
    "       tf.keras.layers.MaxPool2D(pool_size=3, strides=2, padding='same')])\n",
    "\n",
    "def block_2():\n",
    "    net = block_1()\n",
    "    # num_channels为当前的通道数\n",
    "    num_channels, growth_rate = 64, 32\n",
    "    num_convs_in_dense_blocks = [3, 6, 6, 3]\n",
    "\n",
    "    for i, num_convs in enumerate(num_convs_in_dense_blocks):\n",
    "        net.add(DenseBlock(num_convs, growth_rate))\n",
    "        # 上一个稠密块的输出通道数\n",
    "        num_channels += num_convs * growth_rate\n",
    "        # 在稠密块之间添加一个转换层，使通道数量减半\n",
    "        if i != len(num_convs_in_dense_blocks) - 1:\n",
    "            num_channels //= 2  ##compression\n",
    "            net.add(TransitionBlock(num_channels))\n",
    "    return net\n",
    "\n",
    "def net1():\n",
    "    net = block_2()\n",
    "    net.add(tf.keras.layers.BatchNormalization())\n",
    "    net.add(tf.keras.layers.ReLU())\n",
    "    net.add(tf.keras.layers.GlobalAvgPool2D())\n",
    "    net.add(tf.keras.layers.Flatten())\n",
    "    net.add(tf.keras.layers.Dense(10))\n",
    "    return net\n",
    "\n",
    "\n"
   ]
  },
  {
   "cell_type": "code",
   "execution_count": 17,
   "metadata": {},
   "outputs": [],
   "source": [
    "# implement the code of your DenseNet-49 model here.\n",
    "import tensorflow as tf\n",
    "class ConvBlock(tf.keras.layers.Layer):\n",
    "    def __init__(self, num_channels):\n",
    "        super(ConvBlock, self).__init__()\n",
    "        self.bn1 = tf.keras.layers.BatchNormalization()\n",
    "        self.relu1 = tf.keras.layers.ReLU()\n",
    "        self.conv1 = tf.keras.layers.Conv2D(\n",
    "            filters=4*num_channels, kernel_size=1)##bottleneck\n",
    "        self.bn2 = tf.keras.layers.BatchNormalization()\n",
    "        self.relu2 = tf.keras.layers.ReLU()\n",
    "        self.conv2 = tf.keras.layers.Conv2D(\n",
    "            filters=num_channels, kernel_size=(3, 3), padding='same')\n",
    "\n",
    "        self.listLayers = [self.bn1, self.relu1, self.conv1,self.bn2, self.relu2, self.conv2]\n",
    "\n",
    "    def call(self, x):\n",
    "        y = x\n",
    "        for layer in self.listLayers.layers:\n",
    "            y = layer(y)\n",
    "        y = tf.keras.layers.concatenate([x,y], axis=-1)\n",
    "        return y\n",
    "\n",
    "\n",
    "class DenseBlock(tf.keras.layers.Layer):\n",
    "    def __init__(self, num_convs, num_channels):\n",
    "        super(DenseBlock, self).__init__()\n",
    "        self.listLayers = []\n",
    "        for _ in range(num_convs):\n",
    "            self.listLayers.append(ConvBlock(num_channels))\n",
    "\n",
    "    def call(self, x):\n",
    "        for layer in self.listLayers.layers:\n",
    "            x = layer(x)\n",
    "        return x\n",
    "\n",
    "class TransitionBlock(tf.keras.layers.Layer):\n",
    "    def __init__(self, num_channels, **kwargs):\n",
    "        super(TransitionBlock, self).__init__(**kwargs)\n",
    "        self.batch_norm = tf.keras.layers.BatchNormalization()\n",
    "        self.relu = tf.keras.layers.ReLU()\n",
    "        self.conv = tf.keras.layers.Conv2D(num_channels, kernel_size=1)\n",
    "        self.avg_pool = tf.keras.layers.AvgPool2D(pool_size=2, strides=2)\n",
    "\n",
    "    def call(self, x):\n",
    "        x = self.batch_norm(x)\n",
    "        x = self.relu(x)\n",
    "        x = self.conv(x)\n",
    "        return self.avg_pool(x)\n",
    "    \n",
    "def block_1():\n",
    "    return tf.keras.Sequential([\n",
    "       tf.keras.layers.Conv2D(64, kernel_size=7, strides=2, padding='same'),\n",
    "       tf.keras.layers.BatchNormalization(),\n",
    "       tf.keras.layers.ReLU(),\n",
    "       tf.keras.layers.MaxPool2D(pool_size=3, strides=2, padding='same')])\n",
    "\n",
    "def block_2():\n",
    "    net = block_1()\n",
    "    # num_channels为当前的通道数\n",
    "    num_channels, growth_rate = 64, 32\n",
    "    num_convs_in_dense_blocks = [4, 6, 8, 4]\n",
    "\n",
    "    for i, num_convs in enumerate(num_convs_in_dense_blocks):\n",
    "        net.add(DenseBlock(num_convs, growth_rate))\n",
    "        # 上一个稠密块的输出通道数\n",
    "        num_channels += num_convs * growth_rate\n",
    "        # 在稠密块之间添加一个转换层，使通道数量减半\n",
    "        if i != len(num_convs_in_dense_blocks) - 1:\n",
    "            num_channels //= 2  ##compression\n",
    "            net.add(TransitionBlock(num_channels))\n",
    "    return net\n",
    "\n",
    "def net2():\n",
    "    net = block_2()\n",
    "    net.add(tf.keras.layers.BatchNormalization())\n",
    "    net.add(tf.keras.layers.ReLU())\n",
    "    net.add(tf.keras.layers.GlobalAvgPool2D())\n",
    "    net.add(tf.keras.layers.Flatten())\n",
    "    net.add(tf.keras.layers.Dense(10))\n",
    "    return net\n",
    "\n",
    "\n"
   ]
  },
  {
   "cell_type": "markdown",
   "metadata": {},
   "source": [
    "---\n",
    "## 4. Train and evaluate your models. (25 marks)"
   ]
  },
  {
   "cell_type": "markdown",
   "metadata": {},
   "source": [
    "### 4.1 Train your models. (20 marks)"
   ]
  },
  {
   "cell_type": "code",
   "execution_count": 23,
   "metadata": {},
   "outputs": [
    {
     "name": "stdout",
     "output_type": "stream",
     "text": [
      "Epoch 1/20\n",
      "100/100 [==============================] - 132s 1s/step - loss: 1.5604 - accuracy: 0.4319\n",
      "Epoch 2/20\n",
      "100/100 [==============================] - 128s 1s/step - loss: 1.1789 - accuracy: 0.5723\n",
      "Epoch 3/20\n",
      "100/100 [==============================] - 120s 1s/step - loss: 0.9631 - accuracy: 0.6566\n",
      "Epoch 4/20\n",
      "100/100 [==============================] - 120s 1s/step - loss: 0.8210 - accuracy: 0.7083\n",
      "Epoch 5/20\n",
      "100/100 [==============================] - 121s 1s/step - loss: 0.7130 - accuracy: 0.7484\n",
      "Epoch 6/20\n",
      "100/100 [==============================] - 123s 1s/step - loss: 0.6257 - accuracy: 0.7793\n",
      "Epoch 7/20\n",
      "100/100 [==============================] - 130s 1s/step - loss: 0.5594 - accuracy: 0.8023\n",
      "Epoch 8/20\n",
      "100/100 [==============================] - 126s 1s/step - loss: 0.4896 - accuracy: 0.8267\n",
      "Epoch 9/20\n",
      "100/100 [==============================] - 131s 1s/step - loss: 0.4369 - accuracy: 0.8455\n",
      "Epoch 10/20\n",
      "100/100 [==============================] - 131s 1s/step - loss: 0.3768 - accuracy: 0.8677\n",
      "Epoch 11/20\n",
      "100/100 [==============================] - 147s 1s/step - loss: 0.3305 - accuracy: 0.8839\n",
      "Epoch 12/20\n",
      "100/100 [==============================] - 152s 2s/step - loss: 0.2801 - accuracy: 0.9013\n",
      "Epoch 13/20\n",
      "100/100 [==============================] - 146s 1s/step - loss: 0.2460 - accuracy: 0.9134\n",
      "Epoch 14/20\n",
      "100/100 [==============================] - 149s 1s/step - loss: 0.2179 - accuracy: 0.9234\n",
      "Epoch 15/20\n",
      "100/100 [==============================] - 151s 2s/step - loss: 0.1929 - accuracy: 0.9320\n",
      "Epoch 16/20\n",
      "100/100 [==============================] - 151s 2s/step - loss: 0.1526 - accuracy: 0.9463\n",
      "Epoch 17/20\n",
      "100/100 [==============================] - 152s 2s/step - loss: 0.1432 - accuracy: 0.9495\n",
      "Epoch 18/20\n",
      "100/100 [==============================] - 151s 2s/step - loss: 0.1285 - accuracy: 0.9545\n",
      "Epoch 19/20\n",
      "100/100 [==============================] - 145s 1s/step - loss: 0.1039 - accuracy: 0.9636\n",
      "Epoch 20/20\n",
      "100/100 [==============================] - 148s 1s/step - loss: 0.0981 - accuracy: 0.9649\n",
      "training accuracy:0.9648600220680237, training loss:0.09808789938688278\n"
     ]
    }
   ],
   "source": [
    "# implement your code here.\n",
    "# DenseNet-41\n",
    "\n",
    "batch_size = 500\n",
    "epochs = 20\n",
    "net1=net1()\n",
    "\n",
    "optimizer = tf.keras.optimizers.Adam(learning_rate=5e-3)\n",
    "net1.compile(optimizer, tf.losses.CategoricalCrossentropy(from_logits=True), metrics=[\"accuracy\"])\n",
    "history = net1.fit(x_train, y_train, batch_size=batch_size, epochs=epochs)\n",
    "acc = history.history['accuracy']\n",
    "loss = history.history['loss']\n",
    "print(\"training accuracy:{}, training loss:{}\".format(acc[-1], loss[-1]))\n",
    "\n"
   ]
  },
  {
   "cell_type": "code",
   "execution_count": 18,
   "metadata": {},
   "outputs": [
    {
     "name": "stdout",
     "output_type": "stream",
     "text": [
      "Epoch 1/20\n",
      "100/100 [==============================] - 150s 1s/step - loss: 1.5446 - accuracy: 0.4368\n",
      "Epoch 2/20\n",
      "100/100 [==============================] - 145s 1s/step - loss: 1.1712 - accuracy: 0.5784\n",
      "Epoch 3/20\n",
      "100/100 [==============================] - 143s 1s/step - loss: 0.9419 - accuracy: 0.6658\n",
      "Epoch 4/20\n",
      "100/100 [==============================] - 141s 1s/step - loss: 0.7965 - accuracy: 0.7165\n",
      "Epoch 5/20\n",
      "100/100 [==============================] - 143s 1s/step - loss: 0.6780 - accuracy: 0.7612\n",
      "Epoch 6/20\n",
      "100/100 [==============================] - 142s 1s/step - loss: 0.5995 - accuracy: 0.7894\n",
      "Epoch 7/20\n",
      "100/100 [==============================] - 141s 1s/step - loss: 0.5167 - accuracy: 0.8177\n",
      "Epoch 8/20\n",
      "100/100 [==============================] - 142s 1s/step - loss: 0.4596 - accuracy: 0.8372\n",
      "Epoch 9/20\n",
      "100/100 [==============================] - 141s 1s/step - loss: 0.3872 - accuracy: 0.8625\n",
      "Epoch 10/20\n",
      "100/100 [==============================] - 143s 1s/step - loss: 0.3522 - accuracy: 0.8740\n",
      "Epoch 11/20\n",
      "100/100 [==============================] - 144s 1s/step - loss: 0.2981 - accuracy: 0.8931\n",
      "Epoch 12/20\n",
      "100/100 [==============================] - 144s 1s/step - loss: 0.2571 - accuracy: 0.9083\n",
      "Epoch 13/20\n",
      "100/100 [==============================] - 151s 2s/step - loss: 0.2088 - accuracy: 0.9268\n",
      "Epoch 14/20\n",
      "100/100 [==============================] - 152s 2s/step - loss: 0.1859 - accuracy: 0.9342\n",
      "Epoch 15/20\n",
      "100/100 [==============================] - 152s 2s/step - loss: 0.1669 - accuracy: 0.9393\n",
      "Epoch 16/20\n",
      "100/100 [==============================] - 152s 2s/step - loss: 0.1433 - accuracy: 0.9487\n",
      "Epoch 17/20\n",
      "100/100 [==============================] - 154s 2s/step - loss: 0.1244 - accuracy: 0.9557\n",
      "Epoch 18/20\n",
      "100/100 [==============================] - 155s 2s/step - loss: 0.1083 - accuracy: 0.9616\n",
      "Epoch 19/20\n",
      "100/100 [==============================] - 154s 2s/step - loss: 0.1011 - accuracy: 0.9641\n",
      "Epoch 20/20\n",
      "100/100 [==============================] - 157s 2s/step - loss: 0.0912 - accuracy: 0.9674\n",
      "training accuracy:0.9674000144004822, training loss:0.09123262017965317\n"
     ]
    }
   ],
   "source": [
    "# DenseNet-49\n",
    "batch_size = 500\n",
    "epochs = 20\n",
    "net2=net2()\n",
    "\n",
    "optimizer = tf.keras.optimizers.Adam(learning_rate=5e-3)\n",
    "net2.compile(optimizer, tf.losses.CategoricalCrossentropy(from_logits=True), metrics=[\"accuracy\"])\n",
    "history = net2.fit(x_train, y_train, batch_size=batch_size, epochs=epochs)\n",
    "acc = history.history['accuracy']\n",
    "loss = history.history['loss']\n",
    "print(\"training accuracy:{}, training loss:{}\".format(acc[-1], loss[-1]))"
   ]
  },
  {
   "cell_type": "markdown",
   "metadata": {},
   "source": [
    "### 4.2 Test your models. (5 marks)"
   ]
  },
  {
   "cell_type": "code",
   "execution_count": 24,
   "metadata": {},
   "outputs": [
    {
     "name": "stdout",
     "output_type": "stream",
     "text": [
      "313/313 [==============================] - 23s 63ms/step - loss: 1.7360 - accuracy: 0.6783\n",
      "test loss:1.7360326051712036, test accuracy:0.6783000230789185\n"
     ]
    }
   ],
   "source": [
    "# implement your code here.\n",
    "# DenseNet-41\n",
    "test_loss, test_acc = net1.evaluate(x_test, y_test)\n",
    "print(\"test loss:{}, test accuracy:{}\".format(test_loss, test_acc))"
   ]
  },
  {
   "cell_type": "code",
   "execution_count": 19,
   "metadata": {},
   "outputs": [
    {
     "name": "stdout",
     "output_type": "stream",
     "text": [
      "313/313 [==============================] - 13s 36ms/step - loss: 1.4860 - accuracy: 0.7016\n",
      "test loss:1.485963225364685, test accuracy:0.7016000151634216\n"
     ]
    }
   ],
   "source": [
    "# implement your code here.\n",
    "# DenseNet-49\n",
    "test_loss, test_acc = net2.evaluate(x_test, y_test)\n",
    "print(\"test loss:{}, test accuracy:{}\".format(test_loss, test_acc))"
   ]
  },
  {
   "cell_type": "markdown",
   "metadata": {},
   "source": [
    "---\n",
    "## 5. Load the pre-trained models from Keras and evaluate them. (15 marks)\n",
    "\n",
    "Use the pre-trained DenseNet-121 model from keras and fine-tune them by adding a few fc layers at the end. You should set the parameter weights='imagenet', rather than None, to use the pretrained weights."
   ]
  },
  {
   "cell_type": "code",
   "execution_count": 26,
   "metadata": {},
   "outputs": [
    {
     "name": "stdout",
     "output_type": "stream",
     "text": [
      "Epoch 1/30\n",
      "100/100 [==============================] - 331s 3s/step - loss: 1.8583 - accuracy: 0.3616\n",
      "Epoch 2/30\n",
      "100/100 [==============================] - 320s 3s/step - loss: 1.7315 - accuracy: 0.3838\n",
      "Epoch 3/30\n",
      "100/100 [==============================] - 321s 3s/step - loss: 1.7803 - accuracy: 0.3634\n",
      "Epoch 4/30\n",
      "100/100 [==============================] - 322s 3s/step - loss: 1.6139 - accuracy: 0.4224\n",
      "Epoch 5/30\n",
      "100/100 [==============================] - 321s 3s/step - loss: 1.4238 - accuracy: 0.4863\n",
      "Epoch 6/30\n",
      "100/100 [==============================] - 322s 3s/step - loss: 1.3094 - accuracy: 0.5338\n",
      "Epoch 7/30\n",
      "100/100 [==============================] - 321s 3s/step - loss: 1.4335 - accuracy: 0.5036\n",
      "Epoch 8/30\n",
      "100/100 [==============================] - 322s 3s/step - loss: 1.2659 - accuracy: 0.5576\n",
      "Epoch 9/30\n",
      "100/100 [==============================] - 322s 3s/step - loss: 1.1161 - accuracy: 0.6113\n",
      "Epoch 10/30\n",
      "100/100 [==============================] - 322s 3s/step - loss: 1.1528 - accuracy: 0.6007\n",
      "Epoch 11/30\n",
      "100/100 [==============================] - 322s 3s/step - loss: 1.0448 - accuracy: 0.6342\n",
      "Epoch 12/30\n",
      "100/100 [==============================] - 322s 3s/step - loss: 0.8887 - accuracy: 0.6842\n",
      "Epoch 13/30\n",
      "100/100 [==============================] - 322s 3s/step - loss: 0.8476 - accuracy: 0.7000\n",
      "Epoch 14/30\n",
      "100/100 [==============================] - 322s 3s/step - loss: 0.7938 - accuracy: 0.7190\n",
      "Epoch 15/30\n",
      "100/100 [==============================] - 323s 3s/step - loss: 0.8833 - accuracy: 0.6947\n",
      "Epoch 16/30\n",
      "100/100 [==============================] - 323s 3s/step - loss: 0.9705 - accuracy: 0.6697\n",
      "Epoch 17/30\n",
      "100/100 [==============================] - 322s 3s/step - loss: 1.3052 - accuracy: 0.5420\n",
      "Epoch 18/30\n",
      "100/100 [==============================] - 322s 3s/step - loss: 1.1086 - accuracy: 0.6141\n",
      "Epoch 19/30\n",
      "100/100 [==============================] - 322s 3s/step - loss: 0.8879 - accuracy: 0.6867\n",
      "Epoch 20/30\n",
      "100/100 [==============================] - 321s 3s/step - loss: 0.7860 - accuracy: 0.7204\n",
      "Epoch 21/30\n",
      "100/100 [==============================] - 322s 3s/step - loss: 0.7017 - accuracy: 0.7509\n",
      "Epoch 22/30\n",
      "100/100 [==============================] - 322s 3s/step - loss: 0.6551 - accuracy: 0.7697\n",
      "Epoch 23/30\n",
      "100/100 [==============================] - 321s 3s/step - loss: 0.5845 - accuracy: 0.7924\n",
      "Epoch 24/30\n",
      "100/100 [==============================] - 322s 3s/step - loss: 0.5379 - accuracy: 0.8098\n",
      "Epoch 25/30\n",
      "100/100 [==============================] - 321s 3s/step - loss: 0.4940 - accuracy: 0.8240\n",
      "Epoch 26/30\n",
      "100/100 [==============================] - 321s 3s/step - loss: 0.4523 - accuracy: 0.8399\n",
      "Epoch 27/30\n",
      "100/100 [==============================] - 322s 3s/step - loss: 0.4096 - accuracy: 0.8534\n",
      "Epoch 28/30\n",
      "100/100 [==============================] - 322s 3s/step - loss: 0.3678 - accuracy: 0.8688\n",
      "Epoch 29/30\n",
      "100/100 [==============================] - 322s 3s/step - loss: 0.3922 - accuracy: 0.8611\n",
      "Epoch 30/30\n",
      "100/100 [==============================] - 322s 3s/step - loss: 0.3956 - accuracy: 0.8574\n",
      "training accuracy:0.8573600053787231, training loss:0.3955577611923218\n"
     ]
    }
   ],
   "source": [
    "from tensorflow.keras.applications.densenet import DenseNet121\n",
    "from tensorflow.keras import Sequential,layers\n",
    "# implement your code here.\n",
    "\n",
    "batch_size = 500\n",
    "epochs = 30\n",
    "net3 = Sequential()\n",
    "net3.add(DenseNet121(include_top=False,input_shape=(32,32,3),pooling='avg', weights='imagenet'))\n",
    "net3.add(layers.Dense(10, activation='softmax'))\n",
    "\n",
    "optimizer = tf.keras.optimizers.Adam(learning_rate=5e-3)\n",
    "net3.compile(optimizer, tf.losses.categorical_crossentropy, metrics=[\"accuracy\"])\n",
    "history = net3.fit(x_train, y_train, batch_size=batch_size, epochs=epochs)\n",
    "acc = history.history['accuracy']\n",
    "loss = history.history['loss']\n",
    "print(\"training accuracy:{}, training loss:{}\".format(acc[-1], loss[-1]))\n"
   ]
  },
  {
   "cell_type": "code",
   "execution_count": 28,
   "metadata": {
    "scrolled": true
   },
   "outputs": [
    {
     "name": "stdout",
     "output_type": "stream",
     "text": [
      "313/313 [==============================] - 22s 70ms/step - loss: 1.0136 - accuracy: 0.6906\n",
      "test loss:1.013573169708252, test accuracy:0.6905999779701233\n"
     ]
    }
   ],
   "source": [
    "\n",
    "test_loss, test_acc = net3.evaluate(x_test, y_test)\n",
    "print(\"test loss:{}, test accuracy:{}\".format(test_loss, test_acc))\n"
   ]
  },
  {
   "cell_type": "markdown",
   "metadata": {},
   "source": [
    "---\n",
    "## 6. Analysis your results. (20 marks)\n",
    "Compare the performance of your models with the following analysis. Both English and Chinese answers are acceptable.\n",
    "1. Is your implementation of DenseNet-49 better than DenseNet-41? If yes, how is the improvement? If no, try to figure the reason out based on your experiments. (10 marks)\n",
    "\n",
    "Answer:\n",
    "DenseNet-49比DenseNet-41的效果要好，DenseNet-49在测试集上的精度要高于DenseNet-41在测试集上的精度，DenseNet-49在测试集上的损失要小于DenseNet-41在测试集上的损失。\n",
    "\n",
    "2. Compare the results of your implementations with the pre-trained DenseNet-121 models from Keras. (10 marks)\n",
    "\n",
    "Answer:使用预训练的DenseNet-121的模型，训练的精度要比DenseNet-41和DenseNet-49的精度要小，测试精度和DenseNet-41和DenseNet-49的精度相差不大。\n"
   ]
  },
  {
   "cell_type": "code",
   "execution_count": null,
   "metadata": {},
   "outputs": [],
   "source": []
  }
 ],
 "metadata": {
  "kernelspec": {
   "display_name": "tensorflow",
   "language": "python",
   "name": "tensorflow"
  },
  "language_info": {
   "codemirror_mode": {
    "name": "ipython",
    "version": 3
   },
   "file_extension": ".py",
   "mimetype": "text/x-python",
   "name": "python",
   "nbconvert_exporter": "python",
   "pygments_lexer": "ipython3",
   "version": "3.8.13"
  }
 },
 "nbformat": 4,
 "nbformat_minor": 2
}
